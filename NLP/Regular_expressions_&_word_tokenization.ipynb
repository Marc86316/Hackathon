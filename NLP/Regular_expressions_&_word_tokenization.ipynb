{
  "nbformat": 4,
  "nbformat_minor": 0,
  "metadata": {
    "colab": {
      "provenance": [],
      "collapsed_sections": [
        "pxKnpNGGchbf"
      ],
      "authorship_tag": "ABX9TyMRh14Pvh85/OCX0X+mv2nH",
      "include_colab_link": true
    },
    "kernelspec": {
      "name": "python3",
      "display_name": "Python 3"
    },
    "language_info": {
      "name": "python"
    }
  },
  "cells": [
    {
      "cell_type": "markdown",
      "metadata": {
        "id": "view-in-github",
        "colab_type": "text"
      },
      "source": [
        "<a href=\"https://colab.research.google.com/github/Marc86316/Hackathon/blob/main/NLP/Regular_expressions_%26_word_tokenization.ipynb\" target=\"_parent\"><img src=\"https://colab.research.google.com/assets/colab-badge.svg\" alt=\"Open In Colab\"/></a>"
      ]
    },
    {
      "cell_type": "markdown",
      "source": [
        "# Introduction to regular expressions\n",
        "\n",
        "\n",
        "---\n",
        "\n"
      ],
      "metadata": {
        "id": "pxKnpNGGchbf"
      }
    },
    {
      "cell_type": "markdown",
      "source": [
        "## **Big question** :\n",
        "\n",
        "> What's **Syntax** ?\n",
        "\n",
        "> What's **Regular expressions** ? RegEx?\n",
        "```\n",
        "import re\n",
        "```\n",
        "\n",
        "> What's `Token` / `Tokenization` ?\n",
        "\n",
        "> what's the **sequence of Regular expressions**?\n",
        "* The syntax for the regex library is always to pass the pattern first, and the string second.\n",
        "\n",
        "> What's Escape sequences?\n",
        " * Escape sequences are special characters in strings that **start with a backslash (\\)** and represent characters that might be hard to type or have special meaning. For example:\n",
        "  *\t`\\n` represents a newline.\n",
        "  *\t`\\t` represents a tab.\n",
        "  *\t`\\\\` represents a literal backslash."
      ],
      "metadata": {
        "id": "cpqPUIWwdBJF"
      }
    },
    {
      "cell_type": "markdown",
      "source": [
        "## Python's `re` module\n",
        "\n",
        "## `re` module\n",
        "\n",
        "> `split` : split a string on regex\n",
        "\n",
        "> `findall` : find all patterns in a string\n",
        "\n",
        "> `search` : search for a pattern\n",
        "\n",
        "> `match` : match an entire string or substring based on a pattern"
      ],
      "metadata": {
        "id": "mYZ34Bepd9ci"
      }
    },
    {
      "cell_type": "markdown",
      "source": [
        "## import"
      ],
      "metadata": {
        "id": "ypg79Mb8cl1_"
      }
    },
    {
      "cell_type": "code",
      "execution_count": null,
      "metadata": {
        "id": "tTWBFfxQbqzd"
      },
      "outputs": [],
      "source": [
        "import re\n",
        "\n"
      ]
    },
    {
      "cell_type": "markdown",
      "source": [
        "## Exercise - Which Pattern?\n",
        "\n",
        "Determine which Regex pattern from the options below produces the following output:\n",
        "\n",
        "```python\n",
        ">>> my_string = \"Let's write RegEx!\"\n",
        ">>> re.findall(PATTERN, my_string)\n",
        "['Let', 's', 'write', 'RegEx']\n",
        "```\n",
        "\n",
        "Replace `PATTERN` with each option in the IPython Shell and observe the output. The `re` module is already imported and `my_string` is available in your namespace.\n"
      ],
      "metadata": {
        "id": "mGFZFUfGflUn"
      }
    },
    {
      "cell_type": "code",
      "source": [
        "my_string = \"Let's write RegEx!\"\n",
        "patterns = [\n",
        "    r\"\\s+\",\n",
        "    r\"\\w+\",\n",
        "    r\"[a-z]\",\n",
        "    r\"\\w\"\n",
        "]\n",
        "\n",
        "for pattern in patterns:\n",
        "    print(f\"Pattern: {pattern}\")\n",
        "    print(re.findall(pattern, my_string))\n",
        "    print()"
      ],
      "metadata": {
        "colab": {
          "base_uri": "https://localhost:8080/"
        },
        "id": "6wQZtowWf_WJ",
        "outputId": "de3b3c80-f985-4e56-e93c-628d44da5d67"
      },
      "execution_count": null,
      "outputs": [
        {
          "output_type": "stream",
          "name": "stdout",
          "text": [
            "Pattern: \\s+\n",
            "[' ', ' ']\n",
            "\n",
            "Pattern: \\w+\n",
            "['Let', 's', 'write', 'RegEx']\n",
            "\n",
            "Pattern: [a-z]\n",
            "['e', 't', 's', 'w', 'r', 'i', 't', 'e', 'e', 'g', 'x']\n",
            "\n",
            "Pattern: \\w\n",
            "['L', 'e', 't', 's', 'w', 'r', 'i', 't', 'e', 'R', 'e', 'g', 'E', 'x']\n",
            "\n"
          ]
        }
      ]
    },
    {
      "cell_type": "code",
      "source": [
        "my_string = \"Let's write RegEx!\"\n",
        "patterns = [\n",
        "    r\"\\s+\",\n",
        "    r\"\\w+\",\n",
        "    r\"[a-z]\",\n",
        "    r\"\\w\"\n",
        "]\n",
        "\n",
        "for pattern in patterns:\n",
        "    result = re.findall(pattern, my_string)\n",
        "    print(f\"Using pattern {pattern}:\")\n",
        "    print(result)\n",
        "    print()  # blank line for better readability"
      ],
      "metadata": {
        "colab": {
          "base_uri": "https://localhost:8080/"
        },
        "id": "yu7n8Fb2hcia",
        "outputId": "68631d61-f70f-448d-d21d-5182f07d03ec"
      },
      "execution_count": null,
      "outputs": [
        {
          "output_type": "stream",
          "name": "stdout",
          "text": [
            "Using pattern \\s+:\n",
            "[' ', ' ']\n",
            "\n",
            "Using pattern \\w+:\n",
            "['Let', 's', 'write', 'RegEx']\n",
            "\n",
            "Using pattern [a-z]:\n",
            "['e', 't', 's', 'w', 'r', 'i', 't', 'e', 'e', 'g', 'x']\n",
            "\n",
            "Using pattern \\w:\n",
            "['L', 'e', 't', 's', 'w', 'r', 'i', 't', 'e', 'R', 'e', 'g', 'E', 'x']\n",
            "\n"
          ]
        }
      ]
    },
    {
      "cell_type": "markdown",
      "source": [
        "![image.png](data:image/png;base64,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)"
      ],
      "metadata": {
        "id": "wsi8qP3q4AGB"
      }
    },
    {
      "cell_type": "markdown",
      "source": [
        "## Exercise: Practicing Regular Expressions with re.split() and re.findall()\n",
        "\n",
        "In this exercise, you will write regular expressions to match digits, words, and non-alphanumeric characters. Begin by printing `my_string` in the IPython Shell to see its content and decide how to approach the tasks.\n",
        "\n",
        "**Important:** Always prefix your regex patterns with `r` to ensure they are treated as raw strings. For example, using `r\"\\n\"` will match a literal backslash followed by an \"n\" rather than a newline character.\n",
        "\n",
        "The `re` module has already been imported. Remember that the syntax requires the regex pattern as the first argument and the target string as the second."
      ],
      "metadata": {
        "id": "ccIJ37UcqBWL"
      }
    },
    {
      "cell_type": "code",
      "source": [
        "my_string = \"Let's write RegEx!  Won't that be fun?  I sure think so.  Can you find 4 sentences?  Or perhaps, all 19 words?\""
      ],
      "metadata": {
        "id": "x8i-YG59NsRJ"
      },
      "execution_count": null,
      "outputs": []
    },
    {
      "cell_type": "markdown",
      "source": [
        "### Instructions\n",
        "\n",
        "1. **Split on Sentence Endings:**\n",
        "   - Create a pattern named `sentence_endings` that matches sentence terminators (e.g., `.`, `?`, `!`).\n",
        "   - Use `re.split()` with `sentence_endings` to divide `my_string` into sentences and print the resulting list.\n"
      ],
      "metadata": {
        "id": "LWxLE1qWqEpv"
      }
    },
    {
      "cell_type": "code",
      "source": [
        "# Write a pattern to match sentence endings: sentence_endings\n",
        "sentence_endings = r\"[.?!]\"\n",
        "\n",
        "# Split my_string on sentence endings and print the result\n",
        "print(re.split(my_string, sentence_endings))"
      ],
      "metadata": {
        "colab": {
          "base_uri": "https://localhost:8080/"
        },
        "id": "MnDP0uOWqEF0",
        "outputId": "95b4df5d-a08c-4ee5-a694-5ab917500d2c"
      },
      "execution_count": null,
      "outputs": [
        {
          "output_type": "stream",
          "name": "stdout",
          "text": [
            "['[.?!]']\n"
          ]
        }
      ]
    },
    {
      "cell_type": "markdown",
      "source": [
        "2. **Find Capitalized Words:**\n",
        "   - Write a pattern called `capitalized_words` to find all words starting with an uppercase letter.\n",
        "   - Use `re.findall()` with `capitalized_words` to extract and print these words from `my_string`.\n",
        "```\n",
        "re.findall(pattern, string, flags=0)\n",
        "```\n",
        "  - **Arguments explained** :\n",
        "    1. **pattern** (your regex pattern)\n",
        "\n",
        "    2. **string** (the text you're searching in)\n",
        "\n",
        "    3. **flags** (optional):\n",
        "      * These are regex flags like re.IGNORECASE, re.MULTILINE, etc., used to modify how the pattern is interpreted."
      ],
      "metadata": {
        "id": "0uFW8XyXMIy6"
      }
    },
    {
      "cell_type": "code",
      "source": [
        "# Find all capitalized words in my_string and print the result\n",
        "capitalized_words = r\"[A-Z]\\w+\"\n",
        "print(re.findall(capitalized_words, my_string))"
      ],
      "metadata": {
        "colab": {
          "base_uri": "https://localhost:8080/"
        },
        "id": "NB7MBqoXMKrx",
        "outputId": "0d295d20-d5f5-4977-d359-b7ca08064034"
      },
      "execution_count": null,
      "outputs": [
        {
          "output_type": "stream",
          "name": "stdout",
          "text": [
            "['Let', 'RegEx', 'Won', 'Can', 'Or']\n"
          ]
        }
      ]
    },
    {
      "cell_type": "markdown",
      "source": [
        "3. **Split on Spaces (Keep Punctuation Intact):**\n",
        "   - Define a pattern named `spaces` that matches one or more whitespace characters (`\\s+`).\n",
        "   - Apply `re.split()` on `my_string` using the `spaces` pattern and print the result, ensuring that all punctuation remains unchanged.\n",
        "\n"
      ],
      "metadata": {
        "id": "SIWk0BJrMLdz"
      }
    },
    {
      "cell_type": "code",
      "source": [
        "# Split my_string on spaces and print the result\n",
        "spaces = r\"\\s+\"\n",
        "print(re.split(spaces, my_string))"
      ],
      "metadata": {
        "colab": {
          "base_uri": "https://localhost:8080/"
        },
        "id": "LBCAdsK4MMv-",
        "outputId": "dd455d4a-ee15-41a3-f8a7-313265e2a551"
      },
      "execution_count": null,
      "outputs": [
        {
          "output_type": "stream",
          "name": "stdout",
          "text": [
            "[\"Let's\", 'write', 'RegEx!', \"Won't\", 'that', 'be', 'fun?', 'I', 'sure', 'think', 'so.', 'Can', 'you', 'find', '4', 'sentences?', 'Or', 'perhaps,', 'all', '19', 'words?']\n"
          ]
        }
      ]
    },
    {
      "cell_type": "markdown",
      "source": [
        "4. **Extract Digits:**\n",
        "   - Create a pattern called `digits` to match one or more digits (`\\d+`).\n",
        "   - Use `re.findall()` with `digits` to locate and print all numbers in `my_string`."
      ],
      "metadata": {
        "id": "xuivcIi6MNOx"
      }
    },
    {
      "cell_type": "code",
      "source": [
        "# Find all digits in my_string and print the result\n",
        "digits = r\"\\d+\"\n",
        "print(re.findall(digits, my_string))\n"
      ],
      "metadata": {
        "colab": {
          "base_uri": "https://localhost:8080/"
        },
        "id": "xxmlPgZfMNkv",
        "outputId": "82deda2b-167d-4680-81e8-396302c0a990"
      },
      "execution_count": null,
      "outputs": [
        {
          "output_type": "stream",
          "name": "stdout",
          "text": [
            "['4', '19']\n"
          ]
        }
      ]
    },
    {
      "cell_type": "markdown",
      "source": [
        "# Introduction to tokenization\n",
        "\n",
        "\n",
        "---\n",
        "\n"
      ],
      "metadata": {
        "id": "Yh31wzUqQemj"
      }
    },
    {
      "cell_type": "markdown",
      "source": [
        "## Exercise - Word Tokenization with NLTK\n",
        "\n",
        "In this exercise, you'll work with the first scene of *Monty Python and the Holy Grail*, which is pre-loaded as `scene_one`. Your task is to apply NLTK's `word_tokenize` and `sent_tokenize` functions to process this text.\n",
        "\n"
      ],
      "metadata": {
        "id": "LCd7hwjd2cJ6"
      }
    },
    {
      "cell_type": "code",
      "source": [
        "scene_one = '''SCENE 1: [wind] [clop clop clop]\n",
        "KING ARTHUR: Whoa there!  [clop clop clop]\n",
        "SOLDIER #1: Halt!  Who goes there?\n",
        "ARTHUR: It is I, Arthur, son of Uther Pendragon, from the castle of Camelot.  King of the Britons, defeator of the Saxons, sovereign of all England!\n",
        "SOLDIER #1: Pull the other one!\n",
        "ARTHUR: I am, ...  and this is my trusty servant Patsy.  We have ridden the length and breadth of the land in search of knights who will join me in my court at Camelot.  I must speak with your lord and master.\n",
        "SOLDIER #1: What?  Ridden on a horse?\n",
        "ARTHUR: Yes!\n",
        "SOLDIER #1: You're using coconuts!\n",
        "ARTHUR: What?\n",
        "SOLDIER #1: You've got two empty halves of coconut and you're bangin' 'em together.\n",
        "ARTHUR: So?  We have ridden since the snows of winter covered this land, through the kingdom of Mercea, through--\n",
        "SOLDIER #1: Where'd you get the coconuts?\n",
        "ARTHUR: We found them.\n",
        "SOLDIER #1: Found them?  In Mercea?  The coconut's tropical!\n",
        "ARTHUR: What do you mean?\n",
        "SOLDIER #1: Well, this is a temperate zone.\n",
        "ARTHUR: The swallow may fly south with the sun or the house martin or the plover may seek warmer climes in winter, yet these are not strangers to our land?\n",
        "SOLDIER #1: Are you suggesting coconuts migrate?\n",
        "ARTHUR: Not at all.  They could be carried.\n",
        "SOLDIER #1: What?  A swallow carrying a coconut?\n",
        "ARTHUR: It could grip it by the husk!\n",
        "SOLDIER #1: It's not a question of where he grips it!  It's a simple question of weight ratios!  A five ounce bird could not carry a one pound coconut.\n",
        "ARTHUR: Well, it doesn't matter.  Will you go and tell your master that Arthur from the Court of Camelot is here.\n",
        "SOLDIER #1: Listen.  In order to maintain air-speed velocity, a swallow needs to beat its wings forty-three times every second, right?\n",
        "ARTHUR: Please!\n",
        "SOLDIER #1: Am I right?\n",
        "ARTHUR: I'm not interested!\n",
        "SOLDIER #2: It could be carried by an African swallow!\n",
        "SOLDIER #1: Oh, yeah, an African swallow maybe, but not a European swallow.  That's my point.\n",
        "SOLDIER #2: Oh, yeah, I agree with that.\n",
        "ARTHUR: Will you ask your master if he wants to join my court at Camelot?!\n",
        "SOLDIER #1: But then of course a-- African swallows are non-migratory.\n",
        "SOLDIER #2: Oh, yeah...\n",
        "SOLDIER #1: So they couldn't bring a coconut back anyway...  [clop clop clop]\n",
        "SOLDIER #2: Wait a minute!  Supposing two swallows carried it together?\n",
        "SOLDIER #1: No, they'd have to have it on a line.\n",
        "SOLDIER #2: Well, simple!  They'd just use a strand of creeper!\n",
        "SOLDIER #1: What, held under the dorsal guiding feathers?\n",
        "SOLDIER #2: Well, why not?'''"
      ],
      "metadata": {
        "id": "ygpws6sZQhnN"
      },
      "execution_count": null,
      "outputs": []
    },
    {
      "cell_type": "markdown",
      "source": [
        "### Instructions\n",
        "\n",
        "1. **Import** the `sent_tokenize` and `word_tokenize` functions from `nltk.tokenize`.\n",
        "2. **Tokenize all sentences** in `scene_one` using `sent_tokenize()`, storing the result in `sentences`.\n",
        "3. **Tokenize the fourth sentence** (i.e., `sentences[3]`) using `word_tokenize()`.\n",
        "4. **Extract unique tokens** from the entire `scene_one` using `word_tokenize()` and convert the result into a set using `set()`.\n",
        "5. **Print the unique tokens** — this part is already provided."
      ],
      "metadata": {
        "id": "I2BCos8S2lv8"
      }
    },
    {
      "cell_type": "code",
      "source": [
        "!pip install nltk==3.6.5"
      ],
      "metadata": {
        "colab": {
          "base_uri": "https://localhost:8080/"
        },
        "id": "hGt9HxcZskXf",
        "outputId": "7393d9db-39b1-4162-b585-7c12d173f78f"
      },
      "execution_count": null,
      "outputs": [
        {
          "output_type": "stream",
          "name": "stdout",
          "text": [
            "Collecting nltk==3.6.5\n",
            "  Downloading nltk-3.6.5-py3-none-any.whl.metadata (3.0 kB)\n",
            "Requirement already satisfied: click in /usr/local/lib/python3.11/dist-packages (from nltk==3.6.5) (8.1.8)\n",
            "Requirement already satisfied: joblib in /usr/local/lib/python3.11/dist-packages (from nltk==3.6.5) (1.4.2)\n",
            "Requirement already satisfied: regex>=2021.8.3 in /usr/local/lib/python3.11/dist-packages (from nltk==3.6.5) (2024.11.6)\n",
            "Requirement already satisfied: tqdm in /usr/local/lib/python3.11/dist-packages (from nltk==3.6.5) (4.67.1)\n",
            "Downloading nltk-3.6.5-py3-none-any.whl (1.5 MB)\n",
            "\u001b[?25l   \u001b[90m━━━━━━━━━━━━━━━━━━━━━━━━━━━━━━━━━━━━━━━━\u001b[0m \u001b[32m0.0/1.5 MB\u001b[0m \u001b[31m?\u001b[0m eta \u001b[36m-:--:--\u001b[0m\r\u001b[2K   \u001b[91m━━━━\u001b[0m\u001b[90m╺\u001b[0m\u001b[90m━━━━━━━━━━━━━━━━━━━━━━━━━━━━━━━━━━━\u001b[0m \u001b[32m0.2/1.5 MB\u001b[0m \u001b[31m4.3 MB/s\u001b[0m eta \u001b[36m0:00:01\u001b[0m\r\u001b[2K   \u001b[91m━━━━━━━━━━━━━━━━━━━━━━━━━━━━━━━━━━━━\u001b[0m\u001b[90m╺\u001b[0m\u001b[90m━━━\u001b[0m \u001b[32m1.3/1.5 MB\u001b[0m \u001b[31m18.5 MB/s\u001b[0m eta \u001b[36m0:00:01\u001b[0m\r\u001b[2K   \u001b[90m━━━━━━━━━━━━━━━━━━━━━━━━━━━━━━━━━━━━━━━━\u001b[0m \u001b[32m1.5/1.5 MB\u001b[0m \u001b[31m14.4 MB/s\u001b[0m eta \u001b[36m0:00:00\u001b[0m\n",
            "\u001b[?25hInstalling collected packages: nltk\n",
            "  Attempting uninstall: nltk\n",
            "    Found existing installation: nltk 3.9.1\n",
            "    Uninstalling nltk-3.9.1:\n",
            "      Successfully uninstalled nltk-3.9.1\n",
            "\u001b[31mERROR: pip's dependency resolver does not currently take into account all the packages that are installed. This behaviour is the source of the following dependency conflicts.\n",
            "textblob 0.19.0 requires nltk>=3.9, but you have nltk 3.6.5 which is incompatible.\u001b[0m\u001b[31m\n",
            "\u001b[0mSuccessfully installed nltk-3.6.5\n"
          ]
        }
      ]
    },
    {
      "cell_type": "code",
      "source": [
        "# Import necessary modules\n",
        "import re\n",
        "import nltk\n",
        "from nltk.tokenize import word_tokenize, sent_tokenize\n",
        "\n",
        "nltk.download('punkt')"
      ],
      "metadata": {
        "colab": {
          "base_uri": "https://localhost:8080/"
        },
        "id": "nloDj0DY2HWK",
        "outputId": "19331e4e-1d8c-4033-f73f-bc0b028446e3"
      },
      "execution_count": null,
      "outputs": [
        {
          "output_type": "stream",
          "name": "stderr",
          "text": [
            "[nltk_data] Downloading package punkt to /root/nltk_data...\n",
            "[nltk_data]   Unzipping tokenizers/punkt.zip.\n"
          ]
        },
        {
          "output_type": "execute_result",
          "data": {
            "text/plain": [
              "True"
            ]
          },
          "metadata": {},
          "execution_count": 13
        }
      ]
    },
    {
      "cell_type": "markdown",
      "source": [
        "**`sent_tokenize`** : Splits the full text into sentences based on punctuation and formatting.\n",
        "\n"
      ],
      "metadata": {
        "id": "Y1gvony0wZG-"
      }
    },
    {
      "cell_type": "code",
      "source": [
        "# Split scene_one into sentences: sentences\n",
        "sentences = sent_tokenize(scene_one)\n",
        "print(sentences)\n"
      ],
      "metadata": {
        "colab": {
          "base_uri": "https://localhost:8080/"
        },
        "id": "Gfmuo6fL2o-7",
        "outputId": "31a16bb2-0959-40ba-d884-95f524cfabfa"
      },
      "execution_count": null,
      "outputs": [
        {
          "output_type": "stream",
          "name": "stdout",
          "text": [
            "['SCENE 1: [wind] [clop clop clop] \\nKING ARTHUR: Whoa there!', '[clop clop clop] \\nSOLDIER #1: Halt!', 'Who goes there?', 'ARTHUR: It is I, Arthur, son of Uther Pendragon, from the castle of Camelot.', 'King of the Britons, defeator of the Saxons, sovereign of all England!', 'SOLDIER #1: Pull the other one!', 'ARTHUR: I am, ...  and this is my trusty servant Patsy.', 'We have ridden the length and breadth of the land in search of knights who will join me in my court at Camelot.', 'I must speak with your lord and master.', 'SOLDIER #1: What?', 'Ridden on a horse?', 'ARTHUR: Yes!', \"SOLDIER #1: You're using coconuts!\", 'ARTHUR: What?', \"SOLDIER #1: You've got two empty halves of coconut and you're bangin' 'em together.\", 'ARTHUR: So?', \"We have ridden since the snows of winter covered this land, through the kingdom of Mercea, through--\\nSOLDIER #1: Where'd you get the coconuts?\", 'ARTHUR: We found them.', 'SOLDIER #1: Found them?', 'In Mercea?', \"The coconut's tropical!\", 'ARTHUR: What do you mean?', 'SOLDIER #1: Well, this is a temperate zone.', 'ARTHUR: The swallow may fly south with the sun or the house martin or the plover may seek warmer climes in winter, yet these are not strangers to our land?', 'SOLDIER #1: Are you suggesting coconuts migrate?', 'ARTHUR: Not at all.', 'They could be carried.', 'SOLDIER #1: What?', 'A swallow carrying a coconut?', 'ARTHUR: It could grip it by the husk!', \"SOLDIER #1: It's not a question of where he grips it!\", \"It's a simple question of weight ratios!\", 'A five ounce bird could not carry a one pound coconut.', \"ARTHUR: Well, it doesn't matter.\", 'Will you go and tell your master that Arthur from the Court of Camelot is here.', 'SOLDIER #1: Listen.', 'In order to maintain air-speed velocity, a swallow needs to beat its wings forty-three times every second, right?', 'ARTHUR: Please!', 'SOLDIER #1: Am I right?', \"ARTHUR: I'm not interested!\", 'SOLDIER #2: It could be carried by an African swallow!', 'SOLDIER #1: Oh, yeah, an African swallow maybe, but not a European swallow.', \"That's my point.\", 'SOLDIER #2: Oh, yeah, I agree with that.', 'ARTHUR: Will you ask your master if he wants to join my court at Camelot?!', 'SOLDIER #1: But then of course a-- African swallows are non-migratory.', 'SOLDIER #2: Oh, yeah...', \"SOLDIER #1: So they couldn't bring a coconut back anyway...  [clop clop clop] \\nSOLDIER #2: Wait a minute!\", 'Supposing two swallows carried it together?', \"SOLDIER #1: No, they'd have to have it on a line.\", 'SOLDIER #2: Well, simple!', \"They'd just use a strand of creeper!\", 'SOLDIER #1: What, held under the dorsal guiding feathers?', 'SOLDIER #2: Well, why not?']\n"
          ]
        }
      ]
    },
    {
      "cell_type": "markdown",
      "source": [
        "**`word_tokenize(sentences[3])`** : Takes the fourth sentence and splits it into words + punctuation tokens."
      ],
      "metadata": {
        "id": "aALTcDC9wkQH"
      }
    },
    {
      "cell_type": "code",
      "source": [
        "# Use word_tokenize to tokenize the fourth sentence: tokenized_sent\n",
        "tokenized_sent = word_tokenize(sentences[3])\n",
        "print(tokenized_sent)"
      ],
      "metadata": {
        "colab": {
          "base_uri": "https://localhost:8080/"
        },
        "id": "m3J6t6Kxv2Sr",
        "outputId": "d56bc19f-1908-4131-8d37-7d1006801421"
      },
      "execution_count": null,
      "outputs": [
        {
          "output_type": "stream",
          "name": "stdout",
          "text": [
            "['ARTHUR', ':', 'It', 'is', 'I', ',', 'Arthur', ',', 'son', 'of', 'Uther', 'Pendragon', ',', 'from', 'the', 'castle', 'of', 'Camelot', '.']\n"
          ]
        }
      ]
    },
    {
      "cell_type": "code",
      "source": [
        "# Normalize whitespace and line breaks (DataCamp likely does this internally)\n",
        "clean_scene = re.sub(r'\\s+', ' ', scene_one.strip())\n",
        "\n",
        "# Tokenize and get unique tokens\n",
        "unique_tokens = set(word_tokenize(clean_scene))\n",
        "\n",
        "# Print the unique tokens result\n",
        "print(sorted(unique_tokens))"
      ],
      "metadata": {
        "colab": {
          "base_uri": "https://localhost:8080/"
        },
        "id": "4P0p9y5sv3ZX",
        "outputId": "5cdc273c-7f8b-433b-f079-7acb405e64f5"
      },
      "execution_count": null,
      "outputs": [
        {
          "output_type": "stream",
          "name": "stdout",
          "text": [
            "['!', '#', \"'\", \"'d\", \"'em\", \"'m\", \"'re\", \"'s\", \"'ve\", ',', '--', '.', '...', '1', '2', ':', '?', 'A', 'ARTHUR', 'African', 'Am', 'Are', 'Arthur', 'Britons', 'But', 'Camelot', 'Court', 'England', 'European', 'Found', 'Halt', 'I', 'In', 'It', 'KING', 'King', 'Listen', 'Mercea', 'No', 'Not', 'Oh', 'Patsy', 'Pendragon', 'Please', 'Pull', 'Ridden', 'SCENE', 'SOLDIER', 'Saxons', 'So', 'Supposing', 'That', 'The', 'They', 'Uther', 'Wait', 'We', 'Well', 'What', 'Where', 'Who', 'Whoa', 'Will', 'Yes', 'You', '[', ']', 'a', 'agree', 'air-speed', 'all', 'am', 'an', 'and', 'anyway', 'are', 'ask', 'at', 'back', 'bangin', 'be', 'beat', 'bird', 'breadth', 'bring', 'but', 'by', 'carried', 'carry', 'carrying', 'castle', 'climes', 'clop', 'coconut', 'coconuts', 'could', 'course', 'court', 'covered', 'creeper', 'defeator', 'do', 'does', 'dorsal', 'empty', 'every', 'feathers', 'five', 'fly', 'forty-three', 'found', 'from', 'get', 'go', 'goes', 'got', 'grip', 'grips', 'guiding', 'halves', 'have', 'he', 'held', 'here', 'horse', 'house', 'husk', 'if', 'in', 'interested', 'is', 'it', 'its', 'join', 'just', 'kingdom', 'knights', 'land', 'length', 'line', 'lord', 'maintain', 'martin', 'master', 'matter', 'may', 'maybe', 'me', 'mean', 'migrate', 'minute', 'must', 'my', \"n't\", 'needs', 'non-migratory', 'not', 'of', 'on', 'one', 'or', 'order', 'other', 'ounce', 'our', 'plover', 'point', 'pound', 'question', 'ratios', 'ridden', 'right', 'search', 'second', 'seek', 'servant', 'simple', 'since', 'snows', 'son', 'south', 'sovereign', 'speak', 'strand', 'strangers', 'suggesting', 'sun', 'swallow', 'swallows', 'tell', 'temperate', 'that', 'the', 'them', 'then', 'there', 'these', 'they', 'this', 'through', 'times', 'to', 'together', 'tropical', 'trusty', 'two', 'under', 'use', 'using', 'velocity', 'wants', 'warmer', 'weight', 'where', 'who', 'why', 'will', 'wind', 'wings', 'winter', 'with', 'yeah', 'yet', 'you', 'your', 'zone']\n"
          ]
        }
      ]
    },
    {
      "cell_type": "markdown",
      "source": [
        "## Running check\n",
        "since the output \"visually\" different from Datacamp outcome. Therefore, to make sure result are identical, the following is the running test:"
      ],
      "metadata": {
        "id": "R1nYH40O4M_O"
      }
    },
    {
      "cell_type": "code",
      "source": [
        "# Paste DataCamp's token set here:\n",
        "datacamp_tokens = {'climes', 'Found', 'them', 'found', \"'\", 'maintain', 'with', 'point', 'Pendragon', 'What', 'use', 'this', 'got', 'fly', 'line', 'King', 'Saxons', '#', 'search', 'But', '--', 'under', 'course', 'Will', 'defeator', 'Patsy', 'are', 'Whoa', 'goes', 'Britons', 'Well', 'do', 'then', 'land', 'in', 'held', 'five', 'strangers', 'grip', 'beat', 'plover', 'together', 'Pull', 'martin', 'times', 'tell', 'wind', 'Wait', 'all', 'length', 'winter', 'yeah', 'kingdom', 'join', 'Where', 'pound', 'KING', 'other', 'suggesting', 'interested', ']', 'is', 'Please', 'guiding', 'and', '[', '1', 'right', 'master', 'by', 'ratios', \"'d\", \"n't\", 'air-speed', 'horse', 'bangin', 'sovereign', 'here', 'dorsal', 'will', 'order', 'They', 'a', 'second', 'get', 'an', 'using', 'every', '?', 'bird', 'through', 'We', 'strand', 'from', 'ARTHUR', 'house', '!', 'ounce', 'coconuts', 'must', 'No', 'to', 'have', 'wants', 'breadth', 'grips', 'my', 'castle', 'Court', 'who', 'court', 'speak', 'go', 'why', 'mean', 'just', 'ask', 'Oh', 'your', 'where', 'am', 'Am', 'son', 'A', 'covered', 'one', 'feathers', 'Who', 'Are', 'he', 'It', 'could', 'European', 'The', 'Yes', 'may', 'simple', 'these', 'they', 'swallow', 'if', 'Not', 'trusty', 'of', 'clop', 'needs', 'swallows', 'the', \"'re\", 'back', 'that', 'matter', 'Halt', 'African', 'Camelot', 'So', 'bring', 'two', 'wings', 'halves', \"'em\", 'That', 'since', 'question', 'migrate', 'not', 'Arthur', 'Ridden', 'I', 'You', 'Listen', 'ridden', 'servant', 'our', 'carrying', 'yet', 'SOLDIER', 'be', 'me', 'does', 'maybe', 'snows', 'carried', 'tropical', 'south', 'agree', 'there', 'warmer', 'it', '...', ',', 'empty', 'seek', 'or', 'coconut', \"'ve\", 'sun', 'England', 'husk', 'Mercea', \"'s\", 'minute', 'creeper', 'but', 'non-migratory', ':', 'SCENE', \"'m\", 'on', '2', 'carry', 'anyway', 'lord', 'Supposing', 'at', 'forty-three', 'Uther', 'you', 'its', 'knights', 'weight', 'temperate', 'velocity', 'In', '.', 'zone'}\n",
        "\n",
        "\n",
        "# Your cleaned version\n",
        "your_tokens = set(word_tokenize(re.sub(r'\\s+', ' ', scene_one.strip())))\n",
        "\n",
        "# Compare differences\n",
        "print(\"Extra in yours:\", your_tokens - datacamp_tokens)\n",
        "print(\"Missing in yours:\", datacamp_tokens - your_tokens)\n"
      ],
      "metadata": {
        "colab": {
          "base_uri": "https://localhost:8080/"
        },
        "id": "8mjwHdME0US7",
        "outputId": "2253aca2-65af-4771-c196-88ed1b0a3a96"
      },
      "execution_count": null,
      "outputs": [
        {
          "output_type": "stream",
          "name": "stdout",
          "text": [
            "Extra in yours: set()\n",
            "Missing in yours: set()\n"
          ]
        }
      ]
    },
    {
      "cell_type": "markdown",
      "source": [
        "> Both sets have the same elements — just printed in a different order."
      ],
      "metadata": {
        "id": "b57QayiF4THP"
      }
    },
    {
      "cell_type": "markdown",
      "source": [
        "## Exercise - More regex with `re.search()`\n",
        "\n",
        "In this task, you’ll use Python’s `re.search()` and `re.match()` methods to locate specific patterns in text using regular expressions. Both methods expect regex-style patterns like those used in earlier exercises.\n",
        "\n",
        "You'll work with the `scene_one` text and `sentences` list from the **Monty Python** script, using the `re` library to search and extract text.\n",
        "\n"
      ],
      "metadata": {
        "id": "QZcS1KHC5bWL"
      }
    },
    {
      "cell_type": "markdown",
      "source": [
        "---\n",
        "\n",
        "### Instructions 1/3\n",
        "\n",
        "1. Use `re.search()` to find the **first occurrence** of the word `\"coconuts\"` in `scene_one`.\n",
        "2. Store the result in the variable `match`.\n",
        "3. Print the **start** and **end** indices of the match using `.start()` and `.end()`."
      ],
      "metadata": {
        "id": "xmkRDOID5uAd"
      }
    },
    {
      "cell_type": "code",
      "source": [
        "# Search for the first occurrence of \"coconuts\" in scene_one: match\n",
        "match = re.search(\"coconuts\", scene_one)\n",
        "\n",
        "# Print the start and end indexes of match\n",
        "print(match.start(), match.end())"
      ],
      "metadata": {
        "colab": {
          "base_uri": "https://localhost:8080/"
        },
        "id": "MhjyS2Fp5tfV",
        "outputId": "101720b1-47e3-4b28-975b-de631cc96f12"
      },
      "execution_count": null,
      "outputs": [
        {
          "output_type": "stream",
          "name": "stdout",
          "text": [
            "580 588\n"
          ]
        }
      ]
    },
    {
      "cell_type": "markdown",
      "source": [
        "Compare `match.start()`, `match.end()`\n",
        "with **`\\n`** & **without `\\n`** on start and ending\n",
        "\n",
        "```\n",
        "scene_one = '''SCENE 1: [wind] [clop clop clop]\n",
        "...\n",
        "SOLDIER #2: Well, why not?'''\n",
        "```\n",
        "Output : 580 588\n",
        "\n",
        "```\n",
        "scene_one = '''\n",
        "SCENE 1: [wind] [clop clop clop]\n",
        "...\n",
        "SOLDIER #2: Well, why not?\n",
        "'''\n",
        "```\n",
        "\n",
        "Output : 581 589"
      ],
      "metadata": {
        "id": "qx-9dpjK6V0O"
      }
    },
    {
      "cell_type": "markdown",
      "source": [
        "## Instructions 2/3\n",
        "\n",
        "Write a regular expression called pattern1 to find anything in square brackets.\n",
        "Use re.search() with the pattern to find the first text in scene_one in square brackets in the scene. Print the result."
      ],
      "metadata": {
        "id": "993bgrYw7bGP"
      }
    },
    {
      "cell_type": "code",
      "source": [
        "# Write a regular expression to search for anything in square brackets: pattern1\n",
        "pattern1 = r\"\\[.*\\]\"\n",
        "\n",
        "# Use re.search to find the first text in square brackets\n",
        "print(re.search(pattern1, scene_one))"
      ],
      "metadata": {
        "colab": {
          "base_uri": "https://localhost:8080/"
        },
        "id": "8UFgufqc6bxC",
        "outputId": "f1d2ab2c-ba4c-4822-d9d4-810c97b4240e"
      },
      "execution_count": null,
      "outputs": [
        {
          "output_type": "stream",
          "name": "stdout",
          "text": [
            "<re.Match object; span=(9, 32), match='[wind] [clop clop clop]'>\n"
          ]
        }
      ]
    },
    {
      "cell_type": "markdown",
      "source": [
        "### Explanation of the Regex Pattern\n",
        "\n",
        "Here’s a breakdown of how the regular expression `r'\\[.*\\]'` works:\n",
        "\n",
        "- `\\[`  \n",
        "  The backslash `\\` escapes the square bracket `[`, which is a special character in regular expressions. This makes sure it's treated as a **literal character**, meaning it matches an actual `[` in the text.\n",
        "\n",
        "- `.*` or `.*?`\n",
        "  - The dot `.` matches **any character** except a newline.\n",
        "  - The asterisk `*` means \"zero or more\" of the preceding element.\n",
        "  - if add the question mark `?` makes the `*` **non-greedy**, so it matches the **shortest possible** sequence.  \n",
        "  This combination (`.*?`) matches the minimal text **between** the brackets.\n",
        "\n",
        "- `\\]`  \n",
        "  The backslash escapes the closing bracket `]`, ensuring it's matched **literally**.\n",
        "\n"
      ],
      "metadata": {
        "id": "Qehjsci1ALL7"
      }
    },
    {
      "cell_type": "markdown",
      "source": [
        "### Instructions 3/3\n",
        "\n",
        "1. Create a regex pattern named `pattern2` to match **script notations**, such as `CHARACTER:` or `SOLDIER #1:`.\n",
        "   - These notations typically appear at the start of a line and include **uppercase letters**, optional spaces, digits, or symbols (like `#`) before a colon `:`.\n",
        "\n",
        "2. Use `re.match()` with `pattern2` to check if the **fourth sentence** (`sentences[3]`) begins with such a script notation.\n",
        "\n",
        "3. Print the match using `.group()` if a match is found.\n"
      ],
      "metadata": {
        "id": "OIvseLYxBBlm"
      }
    },
    {
      "cell_type": "code",
      "source": [
        "# Find the script notation at the beginning of the fourth sentence and print it\n",
        "pattern2 = r\"[A-Z]+:\"\n",
        "print(re.match(pattern2, sentences[3]))"
      ],
      "metadata": {
        "colab": {
          "base_uri": "https://localhost:8080/"
        },
        "id": "rVps1ulOAMD3",
        "outputId": "9b57ad96-bb64-4390-97fa-1701c360b15a"
      },
      "execution_count": null,
      "outputs": [
        {
          "output_type": "stream",
          "name": "stdout",
          "text": [
            "<re.Match object; span=(0, 7), match='ARTHUR:'>\n"
          ]
        }
      ]
    },
    {
      "cell_type": "markdown",
      "source": [
        "Fantastic work! Now that you're familiar with the basics of tokenization and regular expressions, it's time to learn about more advanced tokenization."
      ],
      "metadata": {
        "id": "6zEfXO6oG0FP"
      }
    },
    {
      "cell_type": "markdown",
      "source": [
        "# Advanced tokenization with NLTK and regex\n"
      ],
      "metadata": {
        "id": "rYgzDuALHAEc"
      }
    },
    {
      "cell_type": "markdown",
      "source": [
        "## Regex ranges and groups\n",
        "\n",
        "| **Pattern**                | **Matches**                                               | **Example**              |\n",
        "|----------------------------|-----------------------------------------------------------|--------------------------|\n",
        "| `[A-Za-z]+`                | upper and lowercase English alphabet                      | `'ABCDEFGhijk'`          |\n",
        "| `[0-9]`                    | numbers from 0 to 9                                       | `9`                      |\n",
        "| `[A-Za-z\\\\-\\\\.]+`          | upper and lowercase English alphabet, `-` and `.`         | `'My-Website.com'`       |\n",
        "| `(a-z)`                    | `a`, `-`, and `z` (literal characters, not a range)        | `'a-z'`                  |\n",
        "| `(\\s+`&#124;`,)`             | spaces **or** a comma                                     | `','`                    |\n",
        "\n"
      ],
      "metadata": {
        "id": "VZZh7nOfBx5X"
      }
    },
    {
      "cell_type": "code",
      "source": [],
      "metadata": {
        "id": "iP1nprlTG_47"
      },
      "execution_count": null,
      "outputs": []
    },
    {
      "cell_type": "code",
      "source": [],
      "metadata": {
        "id": "HIIfAbxSG0n6"
      },
      "execution_count": null,
      "outputs": []
    }
  ]
}